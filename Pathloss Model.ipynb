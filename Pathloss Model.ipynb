{
  "nbformat": 4,
  "nbformat_minor": 0,
  "metadata": {
    "colab": {
      "name": "Untitled5.ipynb",
      "provenance": [],
      "toc_visible": true,
      "authorship_tag": "ABX9TyOenFP1w6HI4GU0s4dQtERD",
      "include_colab_link": true
    },
    "kernelspec": {
      "name": "python3",
      "display_name": "Python 3"
    }
  },
  "cells": [
    {
      "cell_type": "markdown",
      "metadata": {
        "id": "view-in-github",
        "colab_type": "text"
      },
      "source": [
        "<a href=\"https://colab.research.google.com/github/rizkyalvarezsiregar/rizkyalvarez.python.mgg10.tt43g3/blob/main/Pathloss%20Model.ipynb\" target=\"_parent\"><img src=\"https://colab.research.google.com/assets/colab-badge.svg\" alt=\"Open In Colab\"/></a>"
      ]
    },
    {
      "cell_type": "markdown",
      "metadata": {
        "id": "Zc3A40yOr2f9"
      },
      "source": [
        "\r\n",
        "Name: Rizky Alvarez Siregar\r\n",
        "\r\n",
        "NIM: 1101174285"
      ]
    },
    {
      "cell_type": "code",
      "metadata": {
        "id": "uAw_oasPrm2g"
      },
      "source": [
        "import numpy as np"
      ],
      "execution_count": 4,
      "outputs": []
    },
    {
      "cell_type": "markdown",
      "metadata": {
        "id": "IpFf7kZvr0O0"
      },
      "source": [
        "NtL = Numeric to Logarithmic\r\n",
        "\r\n",
        "LtN = Logarithmic to Numeric"
      ]
    },
    {
      "cell_type": "code",
      "metadata": {
        "id": "OZy5lL0sr0yv"
      },
      "source": [
        "NtL= lambda x: 10*np.log10(x)"
      ],
      "execution_count": 5,
      "outputs": []
    },
    {
      "cell_type": "code",
      "metadata": {
        "id": "n_UirxYLsMhL"
      },
      "source": [
        "LtN= lambda x: 10**(x/10)"
      ],
      "execution_count": 6,
      "outputs": []
    },
    {
      "cell_type": "code",
      "metadata": {
        "id": "31y7BDJisSlR"
      },
      "source": [
        "#C1 and C2 values varies according to the frequency (fc)\r\n",
        "def valueC(fc):\r\n",
        "  if (fc>=400 or fc<=1500):\r\n",
        "    c1 = 69.55\r\n",
        "    c2 = 26.16 \r\n",
        "    return c1,c2\r\n",
        "  else:\r\n",
        "    if (fc>1500 or fc<=2000):\r\n",
        "      c1 = 46.3 \r\n",
        "      c2 = 33.9\r\n",
        "      return c1,c2"
      ],
      "execution_count": 7,
      "outputs": []
    },
    {
      "cell_type": "code",
      "metadata": {
        "colab": {
          "base_uri": "https://localhost:8080/"
        },
        "id": "aATycs78sV7A",
        "outputId": "f4f7b4e1-a144-4b7a-82d8-ff387eb2f183"
      },
      "source": [
        "C1,C2 = valueC(1000)\r\n",
        "print(\"c1 = \",C1)\r\n",
        "print(\"c2 = \",C2)"
      ],
      "execution_count": 8,
      "outputs": [
        {
          "output_type": "stream",
          "text": [
            "c1 =  69.55\n",
            "c2 =  26.16\n"
          ],
          "name": "stdout"
        }
      ]
    },
    {
      "cell_type": "markdown",
      "metadata": {
        "id": "OX3fYUc3skuY"
      },
      "source": [
        "The Value of  a(hR)  can be calculated using the formula  a(hR)=[1.1log(fc)−0.7]hR−[1.56log(fc)−0.8]"
      ]
    },
    {
      "cell_type": "code",
      "metadata": {
        "id": "kcG8D9Y5smI0"
      },
      "source": [
        "def valueA(fc,hr):\r\n",
        "  ahr = (1.1*np.log10(fc)-0.7)*hr - (1.56*np.log10(fc)-0.8)\r\n",
        "  return ahr"
      ],
      "execution_count": 9,
      "outputs": []
    },
    {
      "cell_type": "code",
      "metadata": {
        "colab": {
          "base_uri": "https://localhost:8080/"
        },
        "id": "2eOE8A45suDK",
        "outputId": "6f47e24c-8b3c-40f0-c173-cdd398e30a3a"
      },
      "source": [
        "AHR= valueA(1000,10)\r\n",
        "print(\"ahr = \",AHR)"
      ],
      "execution_count": 10,
      "outputs": [
        {
          "output_type": "stream",
          "text": [
            "ahr =  22.120000000000008\n"
          ],
          "name": "stdout"
        }
      ]
    },
    {
      "cell_type": "markdown",
      "metadata": {
        "id": "rNx24RNGs_FL"
      },
      "source": [
        "Value of  Cm  depends on the area such as:\r\n",
        "\r\n",
        "Urban area,  Cm=0 \r\n",
        "\r\n",
        "Suburban area,  Cm=−2[log(fc/28)]2−5.4 \r\n",
        "\r\n",
        "Open Area,  Cm=−4.78[log(fc)]2+18.33log(fc)−40.94 \r\n",
        "\r\n"
      ]
    },
    {
      "cell_type": "code",
      "metadata": {
        "id": "bxslYtIws8UU"
      },
      "source": [
        "def valueCM(area,fc):\r\n",
        "  if area =='urban':\r\n",
        "    cm=0\r\n",
        "    return cm\r\n",
        "  else:\r\n",
        "    if area =='suburban':\r\n",
        "      cm= -2*np.log10(fc)**2 - 5.4\r\n",
        "      return cm\r\n",
        "    else:\r\n",
        "      if area =='open':\r\n",
        "        cm= (-4.78*np.log10(fc)**2)+(18.33*np.log10(fc))-40.94\r\n",
        "      return cm"
      ],
      "execution_count": 11,
      "outputs": []
    },
    {
      "cell_type": "code",
      "metadata": {
        "colab": {
          "base_uri": "https://localhost:8080/"
        },
        "id": "mTINcRovtOgV",
        "outputId": "da2d13ff-9397-4b1d-cfd3-b2aa0f8751a1"
      },
      "source": [
        "CM=valueCM(\"open\",1000)\r\n",
        "print(\"cm= \",CM)"
      ],
      "execution_count": 12,
      "outputs": [
        {
          "output_type": "stream",
          "text": [
            "cm=  -28.970000000000006\n"
          ],
          "name": "stdout"
        }
      ]
    },
    {
      "cell_type": "markdown",
      "metadata": {
        "id": "y2Q-jb-wtiaZ"
      },
      "source": [
        "LP=C1+C2log(fc)−13.83log(hτ)−a(hR)+[44.9−6.55log(hτ)]log(d)+Cm"
      ]
    },
    {
      "cell_type": "code",
      "metadata": {
        "id": "Vcnp1RxWtfnt"
      },
      "source": [
        "def ploss(d,fc,area,ht,hr):\r\n",
        "  #Calculate Pathloss\r\n",
        "  Lp = C1 + (C2*np.log10(fc)) - (13.83*np.log10(ht)) - AHR + (44.9 - (6.55*np.log10(ht)))*(np.log10(d)) + CM\r\n",
        "  #Convert to dB\r\n",
        "  Lpdb = NtL(Lp)\r\n",
        "  return Lp,Lpdb"
      ],
      "execution_count": 13,
      "outputs": []
    },
    {
      "cell_type": "code",
      "metadata": {
        "colab": {
          "base_uri": "https://localhost:8080/"
        },
        "id": "G0Vp3-LqtrXF",
        "outputId": "679b971b-8e63-4bb1-e4d7-a132be1247a1"
      },
      "source": [
        "PathLoss,PathLossdb = ploss(7,1000,\"open\",50,20)\r\n",
        "print(\"The Path Loss is \",PathLoss,\"Watt\")\r\n",
        "print(\"The Path Loss is \",PathLossdb,\"dB\")"
      ],
      "execution_count": 14,
      "outputs": [
        {
          "output_type": "stream",
          "text": [
            "The Path Loss is  101.98368159103964 Watt\n",
            "The Path Loss is  20.085306858606458 dB\n"
          ],
          "name": "stdout"
        }
      ]
    }
  ]
}